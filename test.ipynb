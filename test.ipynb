{
 "cells": [
  {
   "cell_type": "code",
   "execution_count": 2,
   "id": "7df90d2b-535b-43d1-8231-406590a26b68",
   "metadata": {},
   "outputs": [],
   "source": [
    "import json\n",
    "with open('zeus_emails_structured.json', 'r', encoding='utf-8') as f:\n",
    "        loaded_emails = json.load(f)\n"
   ]
  },
  {
   "cell_type": "code",
   "execution_count": 6,
   "id": "586a1940-b6e2-4f4f-ae54-f2fc2c87f4a3",
   "metadata": {},
   "outputs": [
    {
     "ename": "AttributeError",
     "evalue": "'list' object has no attribute 'isinstance'",
     "output_type": "error",
     "traceback": [
      "\u001b[0;31m---------------------------------------------------------------------------\u001b[0m",
      "\u001b[0;31mAttributeError\u001b[0m                            Traceback (most recent call last)",
      "Cell \u001b[0;32mIn[6], line 1\u001b[0m\n\u001b[0;32m----> 1\u001b[0m \u001b[43mloaded_emails\u001b[49m\u001b[38;5;241;43m.\u001b[39;49m\u001b[43misinstance\u001b[49m()\n",
      "\u001b[0;31mAttributeError\u001b[0m: 'list' object has no attribute 'isinstance'"
     ]
    }
   ],
   "source": [
    "loaded_emails.isinstance()"
   ]
  },
  {
   "cell_type": "code",
   "execution_count": null,
   "id": "03d6bc98-7d28-435d-9e8c-a6d4e6bbba62",
   "metadata": {},
   "outputs": [],
   "source": []
  }
 ],
 "metadata": {
  "kernelspec": {
   "display_name": "Python 3 (ipykernel)",
   "language": "python",
   "name": "python3"
  },
  "language_info": {
   "codemirror_mode": {
    "name": "ipython",
    "version": 3
   },
   "file_extension": ".py",
   "mimetype": "text/x-python",
   "name": "python",
   "nbconvert_exporter": "python",
   "pygments_lexer": "ipython3",
   "version": "3.10.6"
  }
 },
 "nbformat": 4,
 "nbformat_minor": 5
}
